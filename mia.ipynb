{
 "cells": [
  {
   "cell_type": "code",
   "execution_count": null,
   "metadata": {},
   "outputs": [],
   "source": [
    "import os \n",
    "from PIL import Image"
   ]
  },
  {
   "cell_type": "markdown",
   "metadata": {},
   "source": [
    "Convert Bmp to png"
   ]
  },
  {
   "cell_type": "code",
   "execution_count": null,
   "metadata": {},
   "outputs": [],
   "source": [
    "# Define the directory containing the BMP images\n",
    "def convert_bmp_to_png(input_directory,output_directory):\n",
    "\n",
    "    for filename in os.listdir(input_directory):\n",
    "        if filename.lower().endswith('.bmp'):\n",
    "            # Construct full file path\n",
    "            bmp_path = os.path.join(input_directory, filename)\n",
    "            # Open the BMP image\n",
    "            with Image.open(bmp_path) as bmp_image:\n",
    "                # Convert the file extension to .png\n",
    "                png_filename = os.path.splitext(filename)[0] + '.png'\n",
    "                png_path = os.path.join(output_directory, png_filename)\n",
    "                # Save the image as PNG\n",
    "                bmp_image.save(png_path, 'PNG')\n",
    "                print(f\"Converted {filename} to {png_filename}\")\n",
    "\n",
    "print(\"Conversion completed.\")\n"
   ]
  },
  {
   "cell_type": "code",
   "execution_count": null,
   "metadata": {},
   "outputs": [],
   "source": [
    "input_dir = r'C:\\Users\\user\\Desktop\\medical_image_analysis\\Covid\\images'\n",
    "output_dir = r'C:\\Users\\user\\Desktop\\medical_image_analysis\\Covid_png_format\\covid_images'\n",
    "\n",
    "convert_bmp_to_png(input_dir,output_dir)"
   ]
  },
  {
   "cell_type": "code",
   "execution_count": null,
   "metadata": {},
   "outputs": [],
   "source": [
    "input_dir_covid_masks = r'C:\\Users\\user\\Desktop\\medical_image_analysis\\Covid\\masks'\n",
    "output_dir_covid_masks = r'C:\\Users\\user\\Desktop\\medical_image_analysis\\Covid_png_format\\covid_masks'\n",
    "\n",
    "convert_bmp_to_png(input_dir_covid_masks, output_dir_covid_masks)"
   ]
  },
  {
   "cell_type": "code",
   "execution_count": null,
   "metadata": {},
   "outputs": [],
   "source": [
    "input_dir_non_covid = r'C:\\Users\\user\\Desktop\\medical_image_analysis\\Non_Covid\\images'\n",
    "output_dir_non_covid = r'C:\\Users\\user\\Desktop\\medical_image_analysis\\Non_covid_png_format\\non_covid_images'\n",
    "\n",
    "convert_bmp_to_png(input_dir_non_covid,output_dir_non_covid)"
   ]
  },
  {
   "cell_type": "code",
   "execution_count": null,
   "metadata": {},
   "outputs": [],
   "source": [
    "input_dir_non_covid_masks = r'C:\\Users\\user\\Desktop\\medical_image_analysis\\Non_Covid\\masks'\n",
    "output_dir_non_covid_masks = r'C:\\Users\\user\\Desktop\\medical_image_analysis\\Non_covid_png_format\\non_covid_masks'\n",
    "\n",
    "convert_bmp_to_png(input_dir_non_covid_masks,output_dir_non_covid_masks)"
   ]
  },
  {
   "cell_type": "markdown",
   "metadata": {},
   "source": [
    "importing necessary libraries"
   ]
  },
  {
   "cell_type": "code",
   "execution_count": 52,
   "metadata": {},
   "outputs": [],
   "source": [
    "import os\n",
    "from glob import glob\n",
    "import numpy as np\n",
    "import torch\n",
    "# from torch.utils.data import Dataset, DataLoader\n",
    "from PIL import Image\n",
    "import albumentations as A\n",
    "# from albumentations.pytorch import ToTensorV2\n",
    "import cv2"
   ]
  },
  {
   "cell_type": "code",
   "execution_count": 53,
   "metadata": {},
   "outputs": [],
   "source": [
    "from keras.utils import Sequence"
   ]
  },
  {
   "cell_type": "code",
   "execution_count": 54,
   "metadata": {},
   "outputs": [],
   "source": [
    "augmentation_pipeline = A.Compose([\n",
    "        A.HorizontalFlip(p=0.5),\n",
    "        A.VerticalFlip(p=0.5),\n",
    "        A.Rotate(limit=20, p=0.5),\n",
    "        A.RandomResizedCrop(height=128, width=128, scale=(0.8, 1.0), p=0.5),\n",
    "        # A.Normalize(mean=(0.485, 0.456, 0.406), std=(0.229, 0.224, 0.225))\n",
    "        # ToTensorV2()\n",
    "])"
   ]
  },
  {
   "cell_type": "code",
   "execution_count": 55,
   "metadata": {},
   "outputs": [],
   "source": [
    "mask_transform_pipeline = A.Compose([\n",
    "        A.HorizontalFlip(p=0.5),\n",
    "        A.VerticalFlip(p=0.5),\n",
    "        A.Rotate(limit=20, p=0.5),\n",
    "        A.RandomResizedCrop(height=128, width=128, scale=(0.8, 1.0), p=0.5)\n",
    "        # ToTensorV2()\n",
    "        # A.Resize(height=256, width=256)\n",
    "    ])"
   ]
  },
  {
   "cell_type": "code",
   "execution_count": 56,
   "metadata": {},
   "outputs": [],
   "source": [
    "val_image_augmentation_pipeline = A.Compose([\n",
    "    A.Resize(height=128, width=128), \n",
    "    # A.Normalize(mean=(0.485, 0.456, 0.406), std=(0.229, 0.224, 0.225))\n",
    "    # ToTensorV2()\n",
    "])"
   ]
  },
  {
   "cell_type": "code",
   "execution_count": 57,
   "metadata": {},
   "outputs": [],
   "source": [
    "val_mask_augmentation_pipeline = A.Compose([\n",
    "    A.Resize(height=128, width=128),\n",
    "    \n",
    "])"
   ]
  },
  {
   "cell_type": "markdown",
   "metadata": {},
   "source": [
    "Augmentation method "
   ]
  },
  {
   "cell_type": "code",
   "execution_count": 67,
   "metadata": {},
   "outputs": [],
   "source": [
    "class AugmentedDataset(Sequence):\n",
    "    def __init__(self, image_paths, mask_paths, image_size=(128,128),augment=False):\n",
    "        self.image_paths = image_paths\n",
    "        self.mask_paths = mask_paths\n",
    "        self.image_size = image_size\n",
    "        self.augment = augment\n",
    "\n",
    "    def __len__(self):\n",
    "        return len(self.image_paths)\n",
    "    \n",
    "    def __getitem__(self, index):\n",
    "        img_path = self.image_paths[index]\n",
    "        mask_path = self.mask_paths[index]\n",
    "\n",
    "        # for img_path, mask_path in zip(batch_image_paths, batch_mask_paths):\n",
    "        image = cv2.imread(img_path)\n",
    "        image = cv2.resize(image, self.image_size)\n",
    "        image = np.array(image)\n",
    "        image = image/255\n",
    "        mask = cv2.imread(mask_path)\n",
    "        mask = cv2.cvtColor(mask,cv2.COLOR_BGR2GRAY)\n",
    "        # mask = mask.resize(self.image_size)\n",
    "        mask = cv2.resize(mask, self.image_size)\n",
    "        mask = np.reshape(mask,mask.shape+(1,))\n",
    "        mask -=1\n",
    "\n",
    "        mask = np.array(mask)\n",
    "        # image = np.array(cv2.imre(img_path).convert(\"RGB\").resize(self.image_size))\n",
    "        # mask = np.array(Image.open(mask_path).resize(self.image_size))\n",
    "\n",
    "        if self.augment and os.path.basename(img_path).startswith('Non'):\n",
    "            augmented = augmentation_pipeline(image=image)\n",
    "            image = augmented['image']\n",
    "            augmented = mask_transform_pipeline(image=mask)\n",
    "            mask = augmented['image']\n",
    "        else:\n",
    "            if self.augment and os.path.basename(img_path).startswith('Val'):\n",
    "            # Apply resizing and normalization to validation data\n",
    "                augmented = val_image_augmentation_pipeline(image=image)\n",
    "                image = augmented['image']\n",
    "                augmented = val_mask_augmentation_pipeline(image=mask)\n",
    "                mask = augmented['image']\n",
    "\n",
    "        # img_arr = np.array(image)\n",
    "        # mask_arr = np.array(mask)\n",
    "\n",
    "        # img_path.append(image)\n",
    "        # mask_path.append(mask)\n",
    "\n",
    "        # images = np.array(images)\n",
    "        # masks = np.array(masks)\n",
    "        # print(type(image))\n",
    "        # print(type(mask))\n",
    "        return image, mask\n",
    "            \n",
    "    \n",
    "     "
   ]
  },
  {
   "cell_type": "code",
   "execution_count": 68,
   "metadata": {},
   "outputs": [],
   "source": [
    "\n",
    "image_folder = r'C:\\Users\\user\\Desktop\\medical_image_analysis\\dataset\\train\\images'\n",
    "image_paths = glob(os.path.join(image_folder, '*png'))\n",
    "# mask_paths = ['path/to/mask1.bmp', 'path/to/non_mask2.bmp', ...]\n",
    "mask_folder = r'C:\\Users\\user\\Desktop\\medical_image_analysis\\dataset\\train\\masks'\n",
    "mask_paths = glob(os.path.join(mask_folder, '*png'))\n",
    "\n",
    "# Separate minority (non) and majority class data\n",
    "minority_image_paths = [img for img in image_paths if os.path.basename(img).startswith('Non')]\n",
    "minority_mask_paths = [msk for msk in mask_paths if os.path.basename(msk).startswith('Non')]\n",
    "\n",
    "majority_image_paths = [img for img in image_paths if not os.path.basename(img).startswith('Non')]\n",
    "majority_mask_paths = [msk for msk in mask_paths if not os.path.basename(msk).startswith('Non')]"
   ]
  },
  {
   "cell_type": "code",
   "execution_count": 69,
   "metadata": {},
   "outputs": [],
   "source": [
    "val_image_folder = r'C:\\Users\\user\\Desktop\\medical_image_analysis\\dataset\\val\\images'\n",
    "val_masks_folder = r'C:\\Users\\user\\Desktop\\medical_image_analysis\\dataset\\val\\masks'\n",
    "\n",
    "val_image_paths = glob(os.path.join(val_image_folder, '*png'))\n",
    "val_mask_paths = glob(os.path.join(val_masks_folder, '*png'))"
   ]
  },
  {
   "cell_type": "code",
   "execution_count": 70,
   "metadata": {},
   "outputs": [],
   "source": [
    "train_image_paths = majority_image_paths + minority_image_paths\n",
    "train_mask_paths = majority_mask_paths + minority_mask_paths\n",
    "\n",
    "combined = list(zip(train_image_paths, train_mask_paths))\n",
    "np.random.shuffle(combined)\n",
    "train_image_paths, train_mask_paths = zip(*combined)\n",
    "train_image_paths = list(train_image_paths)\n",
    "train_mask_paths = list(train_mask_paths)\n",
    "\n",
    "# Create final training dataset with augmentation for minority class\n",
    "train_dataset = AugmentedDataset(train_image_paths, train_mask_paths, augment=True)"
   ]
  },
  {
   "cell_type": "code",
   "execution_count": 71,
   "metadata": {},
   "outputs": [],
   "source": [
    "\n",
    "# Validation dataset without augmentation\n",
    "val_dataset = AugmentedDataset(val_image_paths, val_mask_paths, augment=False)"
   ]
  },
  {
   "cell_type": "code",
   "execution_count": 72,
   "metadata": {},
   "outputs": [
    {
     "name": "stdout",
     "output_type": "stream",
     "text": [
      "(128, 128, 3) (128, 128, 1)\n"
     ]
    }
   ],
   "source": [
    "image, mask = train_dataset.__getitem__(0)\n",
    "print(image.shape, mask.shape)\n"
   ]
  },
  {
   "cell_type": "code",
   "execution_count": 73,
   "metadata": {},
   "outputs": [],
   "source": [
    "import keras\n",
    "from keras.layers import Conv2D, Conv2DTranspose,MaxPooling2D,Dropout,Rescaling\n",
    "# from keras.callbacks import EarlyStop\n",
    "# from keras.models import Sequential\n"
   ]
  },
  {
   "cell_type": "code",
   "execution_count": 74,
   "metadata": {},
   "outputs": [],
   "source": [
    "input_shape = (128,128,3)\n",
    "inputs = keras.layers.Input(input_shape)"
   ]
  },
  {
   "cell_type": "code",
   "execution_count": 16,
   "metadata": {},
   "outputs": [],
   "source": [
    "rescaling = Rescaling(1. / 255)(inputs) # rescale input images to [0, 1]"
   ]
  },
  {
   "cell_type": "markdown",
   "metadata": {},
   "source": [
    "Model Architecture"
   ]
  },
  {
   "cell_type": "code",
   "execution_count": 75,
   "metadata": {},
   "outputs": [],
   "source": [
    "c1 = keras.layers.Conv2D(16,(3,3), activation='relu', kernel_initializer='he_normal',padding='same')(inputs)\n",
    "c1 = keras.layers.Dropout(0.1)(c1)\n",
    "c1 = keras.layers.Conv2D(16,(3,3), activation='relu', kernel_initializer='he_normal',padding='same')(c1)\n",
    "p1 = keras.layers.MaxPooling2D(2,2)(c1)\n",
    "\n",
    "c2 = keras.layers.Conv2D(32,(3,3), activation='relu', kernel_initializer='he_normal',padding='same')(p1)\n",
    "c2 = keras.layers.Dropout(0.1)(c2)\n",
    "c2 = keras.layers.Conv2D(32,(3,3), activation='relu', kernel_initializer='he_normal',padding='same')(c2)\n",
    "p2 = keras.layers.MaxPooling2D(2,2)(c2)\n",
    "\n",
    "c3 = keras.layers.Conv2D(64,(3,3), activation='relu', kernel_initializer='he_normal',padding='same')(p2)\n",
    "c3 = keras.layers.Dropout(0.1)(c3)\n",
    "c3 = keras.layers.Conv2D(64,(3,3), activation='relu', kernel_initializer='he_normal',padding='same')(c3)\n",
    "p3 = keras.layers.MaxPooling2D(2,2)(c3)\n",
    "\n",
    "c4 = keras.layers.Conv2D(128,(3,3), activation='relu', kernel_initializer='he_normal',padding='same')(p3)\n",
    "c4 = keras.layers.Dropout(0.2)(c4)\n",
    "c4 = keras.layers.Conv2D(128,(3,3), activation='relu', kernel_initializer='he_normal',padding='same')(c4)\n",
    "p4 = keras.layers.MaxPooling2D(2,2)(c4)\n",
    "\n",
    "c5 = keras.layers.Conv2D(256,(3,3), activation='relu', kernel_initializer='he_normal',padding='same')(p4)\n",
    "c5 = keras.layers.Dropout(0.3)(c5)\n",
    "c5 = keras.layers.Conv2D(256,(3,3), activation='relu', kernel_initializer='he_normal',padding='same')(c5)\n",
    "\n",
    "u6 = keras.layers.Conv2DTranspose(128, (2,2), strides=(2,2), padding='same')(c5)\n",
    "u6 = keras.layers.concatenate([u6,c4])\n",
    "c6 = keras.layers.Conv2D(128,(3,3), activation='relu', kernel_initializer='he_normal',padding='same')(u6)\n",
    "c6 = keras.layers.Dropout(0.2)(c6)\n",
    "c6 = keras.layers.Conv2D(128,(3,3), activation='relu', kernel_initializer='he_normal',padding='same')(c6)\n",
    "\n",
    "u7 = keras.layers.Conv2DTranspose(64, (2,2), strides=(2,2), padding='same')(c6)\n",
    "u7 = keras.layers.concatenate([u7,c3])\n",
    "c7 = keras.layers.Conv2D(64,(3,3), activation='relu', kernel_initializer='he_normal',padding='same')(u7)\n",
    "c7 = keras.layers.Dropout(0.2)(c7)\n",
    "c7 = keras.layers.Conv2D(64,(3,3), activation='relu', kernel_initializer='he_normal',padding='same')(c7)\n",
    "\n",
    "u8 = keras.layers.Conv2DTranspose(32, (2,2), strides=(2,2), padding='same')(c7)\n",
    "u8 = keras.layers.concatenate([u8,c2])\n",
    "c8 = keras.layers.Conv2D(32,(3,3), activation='relu', kernel_initializer='he_normal',padding='same')(u8)\n",
    "c8 = keras.layers.Dropout(0.1)(c8)\n",
    "c8 = keras.layers.Conv2D(32,(3,3), activation='relu', kernel_initializer='he_normal',padding='same')(c8)\n",
    "\n",
    "u9 = keras.layers.Conv2DTranspose(16, (2,2), strides=(2,2), padding='same')(c8)\n",
    "u9 = keras.layers.concatenate([u9,c1])\n",
    "c9 = keras.layers.Conv2D(16,(3,3), activation='relu', kernel_initializer='he_normal',padding='same')(u9)\n",
    "c9 = keras.layers.Dropout(0.1)(c9)\n",
    "c9 = keras.layers.Conv2D(16,(3,3), activation='relu', kernel_initializer='he_normal',padding='same')(c9)"
   ]
  },
  {
   "cell_type": "code",
   "execution_count": 76,
   "metadata": {},
   "outputs": [],
   "source": [
    "outputs = keras.layers.Conv2D(1, (1,1), activation = 'sigmoid')(c9)"
   ]
  },
  {
   "cell_type": "code",
   "execution_count": 77,
   "metadata": {},
   "outputs": [
    {
     "name": "stdout",
     "output_type": "stream",
     "text": [
      "Model: \"model_1\"\n",
      "__________________________________________________________________________________________________\n",
      " Layer (type)                Output Shape                 Param #   Connected to                  \n",
      "==================================================================================================\n",
      " input_3 (InputLayer)        [(None, 128, 128, 3)]        0         []                            \n",
      "                                                                                                  \n",
      " conv2d_19 (Conv2D)          (None, 128, 128, 16)         448       ['input_3[0][0]']             \n",
      "                                                                                                  \n",
      " dropout_9 (Dropout)         (None, 128, 128, 16)         0         ['conv2d_19[0][0]']           \n",
      "                                                                                                  \n",
      " conv2d_20 (Conv2D)          (None, 128, 128, 16)         2320      ['dropout_9[0][0]']           \n",
      "                                                                                                  \n",
      " max_pooling2d_4 (MaxPoolin  (None, 64, 64, 16)           0         ['conv2d_20[0][0]']           \n",
      " g2D)                                                                                             \n",
      "                                                                                                  \n",
      " conv2d_21 (Conv2D)          (None, 64, 64, 32)           4640      ['max_pooling2d_4[0][0]']     \n",
      "                                                                                                  \n",
      " dropout_10 (Dropout)        (None, 64, 64, 32)           0         ['conv2d_21[0][0]']           \n",
      "                                                                                                  \n",
      " conv2d_22 (Conv2D)          (None, 64, 64, 32)           9248      ['dropout_10[0][0]']          \n",
      "                                                                                                  \n",
      " max_pooling2d_5 (MaxPoolin  (None, 32, 32, 32)           0         ['conv2d_22[0][0]']           \n",
      " g2D)                                                                                             \n",
      "                                                                                                  \n"
     ]
    },
    {
     "name": "stdout",
     "output_type": "stream",
     "text": [
      " conv2d_23 (Conv2D)          (None, 32, 32, 64)           18496     ['max_pooling2d_5[0][0]']     \n",
      "                                                                                                  \n",
      " dropout_11 (Dropout)        (None, 32, 32, 64)           0         ['conv2d_23[0][0]']           \n",
      "                                                                                                  \n",
      " conv2d_24 (Conv2D)          (None, 32, 32, 64)           36928     ['dropout_11[0][0]']          \n",
      "                                                                                                  \n",
      " max_pooling2d_6 (MaxPoolin  (None, 16, 16, 64)           0         ['conv2d_24[0][0]']           \n",
      " g2D)                                                                                             \n",
      "                                                                                                  \n",
      " conv2d_25 (Conv2D)          (None, 16, 16, 128)          73856     ['max_pooling2d_6[0][0]']     \n",
      "                                                                                                  \n",
      " dropout_12 (Dropout)        (None, 16, 16, 128)          0         ['conv2d_25[0][0]']           \n",
      "                                                                                                  \n",
      " conv2d_26 (Conv2D)          (None, 16, 16, 128)          147584    ['dropout_12[0][0]']          \n",
      "                                                                                                  \n",
      " max_pooling2d_7 (MaxPoolin  (None, 8, 8, 128)            0         ['conv2d_26[0][0]']           \n",
      " g2D)                                                                                             \n",
      "                                                                                                  \n",
      " conv2d_27 (Conv2D)          (None, 8, 8, 256)            295168    ['max_pooling2d_7[0][0]']     \n",
      "                                                                                                  \n",
      " dropout_13 (Dropout)        (None, 8, 8, 256)            0         ['conv2d_27[0][0]']           \n",
      "                                                                                                  \n",
      " conv2d_28 (Conv2D)          (None, 8, 8, 256)            590080    ['dropout_13[0][0]']          \n",
      "                                                                                                  \n",
      " conv2d_transpose_4 (Conv2D  (None, 16, 16, 128)          131200    ['conv2d_28[0][0]']           \n",
      " Transpose)                                                                                       \n",
      "                                                                                                  \n",
      " concatenate_4 (Concatenate  (None, 16, 16, 256)          0         ['conv2d_transpose_4[0][0]',  \n",
      " )                                                                   'conv2d_26[0][0]']           \n",
      "                                                                                                  \n",
      " conv2d_29 (Conv2D)          (None, 16, 16, 128)          295040    ['concatenate_4[0][0]']       \n",
      "                                                                                                  \n",
      " dropout_14 (Dropout)        (None, 16, 16, 128)          0         ['conv2d_29[0][0]']           \n",
      "                                                                                                  \n",
      " conv2d_30 (Conv2D)          (None, 16, 16, 128)          147584    ['dropout_14[0][0]']          \n",
      "                                                                                                  \n",
      " conv2d_transpose_5 (Conv2D  (None, 32, 32, 64)           32832     ['conv2d_30[0][0]']           \n",
      " Transpose)                                                                                       \n",
      "                                                                                                  \n",
      " concatenate_5 (Concatenate  (None, 32, 32, 128)          0         ['conv2d_transpose_5[0][0]',  \n",
      " )                                                                   'conv2d_24[0][0]']           \n",
      "                                                                                                  \n",
      " conv2d_31 (Conv2D)          (None, 32, 32, 64)           73792     ['concatenate_5[0][0]']       \n",
      "                                                                                                  \n",
      " dropout_15 (Dropout)        (None, 32, 32, 64)           0         ['conv2d_31[0][0]']           \n",
      "                                                                                                  \n",
      " conv2d_32 (Conv2D)          (None, 32, 32, 64)           36928     ['dropout_15[0][0]']          \n",
      "                                                                                                  \n",
      " conv2d_transpose_6 (Conv2D  (None, 64, 64, 32)           8224      ['conv2d_32[0][0]']           \n",
      " Transpose)                                                                                       \n",
      "                                                                                                  \n",
      " concatenate_6 (Concatenate  (None, 64, 64, 64)           0         ['conv2d_transpose_6[0][0]',  \n",
      " )                                                                   'conv2d_22[0][0]']           \n",
      "                                                                                                  \n",
      " conv2d_33 (Conv2D)          (None, 64, 64, 32)           18464     ['concatenate_6[0][0]']       \n",
      "                                                                                                  \n",
      " dropout_16 (Dropout)        (None, 64, 64, 32)           0         ['conv2d_33[0][0]']           \n",
      "                                                                                                  \n",
      " conv2d_34 (Conv2D)          (None, 64, 64, 32)           9248      ['dropout_16[0][0]']          \n",
      "                                                                                                  \n",
      " conv2d_transpose_7 (Conv2D  (None, 128, 128, 16)         2064      ['conv2d_34[0][0]']           \n",
      " Transpose)                                                                                       \n",
      "                                                                                                  \n",
      " concatenate_7 (Concatenate  (None, 128, 128, 32)         0         ['conv2d_transpose_7[0][0]',  \n",
      " )                                                                   'conv2d_20[0][0]']           \n",
      "                                                                                                  \n",
      " conv2d_35 (Conv2D)          (None, 128, 128, 16)         4624      ['concatenate_7[0][0]']       \n",
      "                                                                                                  \n",
      " dropout_17 (Dropout)        (None, 128, 128, 16)         0         ['conv2d_35[0][0]']           \n",
      "                                                                                                  \n",
      " conv2d_36 (Conv2D)          (None, 128, 128, 16)         2320      ['dropout_17[0][0]']          \n",
      "                                                                                                  \n",
      " conv2d_37 (Conv2D)          (None, 128, 128, 1)          17        ['conv2d_36[0][0]']           \n",
      "                                                                                                  \n",
      "==================================================================================================\n",
      "Total params: 1941105 (7.40 MB)\n",
      "Trainable params: 1941105 (7.40 MB)\n",
      "Non-trainable params: 0 (0.00 Byte)\n",
      "__________________________________________________________________________________________________\n"
     ]
    }
   ],
   "source": [
    "model = keras.Model(inputs = [inputs], outputs = [outputs])\n",
    "model.compile(optimizer = 'adam', loss = 'binary_crossentropy', metrics=['accuracy'])\n",
    "model.summary()"
   ]
  },
  {
   "cell_type": "code",
   "execution_count": 78,
   "metadata": {},
   "outputs": [],
   "source": [
    "checkpointer = keras.callbacks.ModelCheckpoint(r'C:\\Users\\user\\Desktop\\medical_image_analysis\\cxr_model.h5', verbose=1, save_best_only=True)"
   ]
  },
  {
   "cell_type": "code",
   "execution_count": 79,
   "metadata": {},
   "outputs": [],
   "source": [
    "# es = keras.callbacks.EarlyStopping()"
   ]
  },
  {
   "cell_type": "code",
   "execution_count": 35,
   "metadata": {},
   "outputs": [],
   "source": [
    "callbacks = [keras.callbacks.TensorBoard(log_dir = 'mwglog/', histogram_freq=1),checkpointer]"
   ]
  },
  {
   "cell_type": "code",
   "execution_count": 80,
   "metadata": {},
   "outputs": [
    {
     "name": "stdout",
     "output_type": "stream",
     "text": [
      "(286, 128, 128, 3)\n",
      "(286, 128, 128, 1)\n"
     ]
    }
   ],
   "source": [
    "(list(train_dataset))[0]\n",
    "\n",
    "X_train = [i[0] for i in list(train_dataset)]\n",
    "X_train_arr = np.array(X_train)\n",
    "\n",
    "Y_train = [i[1] for i in list(train_dataset)]\n",
    "Y_train_arr = np.array(Y_train)\n",
    "\n",
    "print(X_train_arr.shape)\n",
    "print(Y_train_arr.shape)"
   ]
  },
  {
   "cell_type": "code",
   "execution_count": 29,
   "metadata": {},
   "outputs": [
    {
     "name": "stdout",
     "output_type": "stream",
     "text": [
      "(22, 128, 128, 3)\n",
      "(22, 128, 128, 1)\n"
     ]
    }
   ],
   "source": [
    "(list(val_dataset))[0]\n",
    "\n",
    "X_test = [i[0] for i in list(val_dataset)]\n",
    "X_test_arr = np.array(X_test)\n",
    "\n",
    "Y_test = [i[1] for i in list(val_dataset)]\n",
    "Y_test_arr = np.array(Y_test)\n",
    "\n",
    "print(X_test_arr.shape)\n",
    "print(Y_test_arr.shape)"
   ]
  },
  {
   "cell_type": "code",
   "execution_count": 81,
   "metadata": {},
   "outputs": [
    {
     "name": "stdout",
     "output_type": "stream",
     "text": [
      "Epoch 1/35\n",
      "9/9 [==============================] - ETA: 0s - loss: -33032636.0000 - accuracy: 4.5286e-04\n",
      "Epoch 1: val_loss improved from inf to -34088607744.00000, saving model to C:\\Users\\user\\Desktop\\medical_image_analysis\\cxr_model.h5\n"
     ]
    },
    {
     "name": "stderr",
     "output_type": "stream",
     "text": [
      "c:\\Users\\user\\AppData\\Local\\Programs\\Python\\Python311\\Lib\\site-packages\\keras\\src\\engine\\training.py:3103: UserWarning: You are saving your model as an HDF5 file via `model.save()`. This file format is considered legacy. We recommend using instead the native Keras format, e.g. `model.save('my_model.keras')`.\n",
      "  saving_api.save_model(\n"
     ]
    },
    {
     "name": "stdout",
     "output_type": "stream",
     "text": [
      "9/9 [==============================] - 54s 3s/step - loss: -33032636.0000 - accuracy: 4.5286e-04 - val_loss: -34088607744.0000 - val_accuracy: 0.0010\n",
      "Epoch 2/35\n",
      "9/9 [==============================] - ETA: 0s - loss: -4436172734464.0000 - accuracy: 4.3322e-04\n",
      "Epoch 2: val_loss improved from -34088607744.00000 to -3115661081444352.00000, saving model to C:\\Users\\user\\Desktop\\medical_image_analysis\\cxr_model.h5\n",
      "9/9 [==============================] - 28s 3s/step - loss: -4436172734464.0000 - accuracy: 4.3322e-04 - val_loss: -3115661081444352.0000 - val_accuracy: 0.0010\n",
      "Epoch 3/35\n",
      "9/9 [==============================] - ETA: 0s - loss: -39128212923482112.0000 - accuracy: 4.3322e-04\n",
      "Epoch 3: val_loss improved from -3115661081444352.00000 to -23287291238435258368.00000, saving model to C:\\Users\\user\\Desktop\\medical_image_analysis\\cxr_model.h5\n",
      "9/9 [==============================] - 26s 3s/step - loss: -39128212923482112.0000 - accuracy: 4.3322e-04 - val_loss: -23287291238435258368.0000 - val_accuracy: 0.0010\n",
      "Epoch 4/35\n",
      "9/9 [==============================] - ETA: 0s - loss: nan - accuracy: 5.2349e-04                       \n",
      "Epoch 4: val_loss did not improve from -23287291238435258368.00000\n",
      "9/9 [==============================] - 28s 3s/step - loss: nan - accuracy: 5.2349e-04 - val_loss: nan - val_accuracy: 0.7924\n",
      "Epoch 5/35\n",
      "9/9 [==============================] - ETA: 0s - loss: nan - accuracy: 0.0012\n",
      "Epoch 5: val_loss did not improve from -23287291238435258368.00000\n",
      "9/9 [==============================] - 26s 3s/step - loss: nan - accuracy: 0.0012 - val_loss: nan - val_accuracy: 0.7924\n",
      "Epoch 6/35\n",
      "9/9 [==============================] - ETA: 0s - loss: nan - accuracy: 0.0012\n",
      "Epoch 6: val_loss did not improve from -23287291238435258368.00000\n",
      "9/9 [==============================] - 25s 3s/step - loss: nan - accuracy: 0.0012 - val_loss: nan - val_accuracy: 0.7924\n",
      "Epoch 7/35\n",
      "9/9 [==============================] - ETA: 0s - loss: nan - accuracy: 0.0012\n",
      "Epoch 7: val_loss did not improve from -23287291238435258368.00000\n",
      "9/9 [==============================] - 45s 5s/step - loss: nan - accuracy: 0.0012 - val_loss: nan - val_accuracy: 0.7924\n",
      "Epoch 8/35\n",
      "9/9 [==============================] - ETA: 0s - loss: nan - accuracy: 0.0012\n",
      "Epoch 8: val_loss did not improve from -23287291238435258368.00000\n",
      "9/9 [==============================] - 33s 4s/step - loss: nan - accuracy: 0.0012 - val_loss: nan - val_accuracy: 0.7924\n",
      "Epoch 9/35\n",
      "9/9 [==============================] - ETA: 0s - loss: nan - accuracy: 0.0012\n",
      "Epoch 9: val_loss did not improve from -23287291238435258368.00000\n",
      "9/9 [==============================] - 24s 3s/step - loss: nan - accuracy: 0.0012 - val_loss: nan - val_accuracy: 0.7924\n",
      "Epoch 10/35\n",
      "9/9 [==============================] - ETA: 0s - loss: nan - accuracy: 0.0012\n",
      "Epoch 10: val_loss did not improve from -23287291238435258368.00000\n",
      "9/9 [==============================] - 26s 3s/step - loss: nan - accuracy: 0.0012 - val_loss: nan - val_accuracy: 0.7924\n",
      "Epoch 11/35\n",
      "9/9 [==============================] - ETA: 0s - loss: nan - accuracy: 0.0012\n",
      "Epoch 11: val_loss did not improve from -23287291238435258368.00000\n",
      "9/9 [==============================] - 24s 3s/step - loss: nan - accuracy: 0.0012 - val_loss: nan - val_accuracy: 0.7924\n",
      "Epoch 12/35\n",
      "9/9 [==============================] - ETA: 0s - loss: nan - accuracy: 0.0012\n",
      "Epoch 12: val_loss did not improve from -23287291238435258368.00000\n",
      "9/9 [==============================] - 24s 3s/step - loss: nan - accuracy: 0.0012 - val_loss: nan - val_accuracy: 0.7924\n",
      "Epoch 13/35\n",
      "9/9 [==============================] - ETA: 0s - loss: nan - accuracy: 0.0012\n",
      "Epoch 13: val_loss did not improve from -23287291238435258368.00000\n",
      "9/9 [==============================] - 23s 3s/step - loss: nan - accuracy: 0.0012 - val_loss: nan - val_accuracy: 0.7924\n",
      "Epoch 14/35\n",
      "9/9 [==============================] - ETA: 0s - loss: nan - accuracy: 0.0012\n",
      "Epoch 14: val_loss did not improve from -23287291238435258368.00000\n",
      "9/9 [==============================] - 23s 3s/step - loss: nan - accuracy: 0.0012 - val_loss: nan - val_accuracy: 0.7924\n",
      "Epoch 15/35\n",
      "9/9 [==============================] - ETA: 0s - loss: nan - accuracy: 0.0012\n",
      "Epoch 15: val_loss did not improve from -23287291238435258368.00000\n",
      "9/9 [==============================] - 24s 3s/step - loss: nan - accuracy: 0.0012 - val_loss: nan - val_accuracy: 0.7924\n",
      "Epoch 16/35\n",
      "9/9 [==============================] - ETA: 0s - loss: nan - accuracy: 0.0012\n",
      "Epoch 16: val_loss did not improve from -23287291238435258368.00000\n",
      "9/9 [==============================] - 23s 3s/step - loss: nan - accuracy: 0.0012 - val_loss: nan - val_accuracy: 0.7924\n",
      "Epoch 17/35\n",
      "9/9 [==============================] - ETA: 0s - loss: nan - accuracy: 0.0012\n",
      "Epoch 17: val_loss did not improve from -23287291238435258368.00000\n",
      "9/9 [==============================] - 23s 3s/step - loss: nan - accuracy: 0.0012 - val_loss: nan - val_accuracy: 0.7924\n",
      "Epoch 18/35\n",
      "9/9 [==============================] - ETA: 0s - loss: nan - accuracy: 0.0012\n",
      "Epoch 18: val_loss did not improve from -23287291238435258368.00000\n",
      "9/9 [==============================] - 24s 3s/step - loss: nan - accuracy: 0.0012 - val_loss: nan - val_accuracy: 0.7924\n",
      "Epoch 19/35\n",
      "9/9 [==============================] - ETA: 0s - loss: nan - accuracy: 0.0012\n",
      "Epoch 19: val_loss did not improve from -23287291238435258368.00000\n",
      "9/9 [==============================] - 23s 3s/step - loss: nan - accuracy: 0.0012 - val_loss: nan - val_accuracy: 0.7924\n",
      "Epoch 20/35\n",
      "9/9 [==============================] - ETA: 0s - loss: nan - accuracy: 0.0012\n",
      "Epoch 20: val_loss did not improve from -23287291238435258368.00000\n",
      "9/9 [==============================] - 24s 3s/step - loss: nan - accuracy: 0.0012 - val_loss: nan - val_accuracy: 0.7924\n",
      "Epoch 21/35\n",
      "9/9 [==============================] - ETA: 0s - loss: nan - accuracy: 0.0012\n",
      "Epoch 21: val_loss did not improve from -23287291238435258368.00000\n",
      "9/9 [==============================] - 24s 3s/step - loss: nan - accuracy: 0.0012 - val_loss: nan - val_accuracy: 0.7924\n",
      "Epoch 22/35\n",
      "9/9 [==============================] - ETA: 0s - loss: nan - accuracy: 0.0012\n",
      "Epoch 22: val_loss did not improve from -23287291238435258368.00000\n",
      "9/9 [==============================] - 23s 3s/step - loss: nan - accuracy: 0.0012 - val_loss: nan - val_accuracy: 0.7924\n",
      "Epoch 23/35\n",
      "9/9 [==============================] - ETA: 0s - loss: nan - accuracy: 0.0012\n",
      "Epoch 23: val_loss did not improve from -23287291238435258368.00000\n",
      "9/9 [==============================] - 23s 3s/step - loss: nan - accuracy: 0.0012 - val_loss: nan - val_accuracy: 0.7924\n",
      "Epoch 24/35\n",
      "9/9 [==============================] - ETA: 0s - loss: nan - accuracy: 0.0012\n",
      "Epoch 24: val_loss did not improve from -23287291238435258368.00000\n",
      "9/9 [==============================] - 24s 3s/step - loss: nan - accuracy: 0.0012 - val_loss: nan - val_accuracy: 0.7924\n",
      "Epoch 25/35\n",
      "9/9 [==============================] - ETA: 0s - loss: nan - accuracy: 0.0012\n",
      "Epoch 25: val_loss did not improve from -23287291238435258368.00000\n",
      "9/9 [==============================] - 23s 3s/step - loss: nan - accuracy: 0.0012 - val_loss: nan - val_accuracy: 0.7924\n",
      "Epoch 26/35\n",
      "9/9 [==============================] - ETA: 0s - loss: nan - accuracy: 0.0012\n",
      "Epoch 26: val_loss did not improve from -23287291238435258368.00000\n",
      "9/9 [==============================] - 23s 3s/step - loss: nan - accuracy: 0.0012 - val_loss: nan - val_accuracy: 0.7924\n",
      "Epoch 27/35\n",
      "9/9 [==============================] - ETA: 0s - loss: nan - accuracy: 0.0012\n",
      "Epoch 27: val_loss did not improve from -23287291238435258368.00000\n",
      "9/9 [==============================] - 24s 3s/step - loss: nan - accuracy: 0.0012 - val_loss: nan - val_accuracy: 0.7924\n",
      "Epoch 28/35\n",
      "9/9 [==============================] - ETA: 0s - loss: nan - accuracy: 0.0012\n",
      "Epoch 28: val_loss did not improve from -23287291238435258368.00000\n",
      "9/9 [==============================] - 28s 3s/step - loss: nan - accuracy: 0.0012 - val_loss: nan - val_accuracy: 0.7924\n",
      "Epoch 29/35\n",
      "9/9 [==============================] - ETA: 0s - loss: nan - accuracy: 0.0012\n",
      "Epoch 29: val_loss did not improve from -23287291238435258368.00000\n",
      "9/9 [==============================] - 24s 3s/step - loss: nan - accuracy: 0.0012 - val_loss: nan - val_accuracy: 0.7924\n",
      "Epoch 30/35\n",
      "9/9 [==============================] - ETA: 0s - loss: nan - accuracy: 0.0012\n",
      "Epoch 30: val_loss did not improve from -23287291238435258368.00000\n",
      "9/9 [==============================] - 23s 3s/step - loss: nan - accuracy: 0.0012 - val_loss: nan - val_accuracy: 0.7924\n",
      "Epoch 31/35\n",
      "9/9 [==============================] - ETA: 0s - loss: nan - accuracy: 0.0012\n",
      "Epoch 31: val_loss did not improve from -23287291238435258368.00000\n",
      "9/9 [==============================] - 23s 3s/step - loss: nan - accuracy: 0.0012 - val_loss: nan - val_accuracy: 0.7924\n",
      "Epoch 32/35\n",
      "9/9 [==============================] - ETA: 0s - loss: nan - accuracy: 0.0012\n",
      "Epoch 32: val_loss did not improve from -23287291238435258368.00000\n",
      "9/9 [==============================] - 23s 3s/step - loss: nan - accuracy: 0.0012 - val_loss: nan - val_accuracy: 0.7924\n",
      "Epoch 33/35\n",
      "9/9 [==============================] - ETA: 0s - loss: nan - accuracy: 0.0012\n",
      "Epoch 33: val_loss did not improve from -23287291238435258368.00000\n",
      "9/9 [==============================] - 23s 3s/step - loss: nan - accuracy: 0.0012 - val_loss: nan - val_accuracy: 0.7924\n",
      "Epoch 34/35\n",
      "9/9 [==============================] - ETA: 0s - loss: nan - accuracy: 0.0012\n",
      "Epoch 34: val_loss did not improve from -23287291238435258368.00000\n",
      "9/9 [==============================] - 24s 3s/step - loss: nan - accuracy: 0.0012 - val_loss: nan - val_accuracy: 0.7924\n",
      "Epoch 35/35\n",
      "9/9 [==============================] - ETA: 0s - loss: nan - accuracy: 0.0012\n",
      "Epoch 35: val_loss did not improve from -23287291238435258368.00000\n",
      "9/9 [==============================] - 24s 3s/step - loss: nan - accuracy: 0.0012 - val_loss: nan - val_accuracy: 0.7924\n"
     ]
    }
   ],
   "source": [
    "results = model.fit(x=X_train_arr, y=Y_train_arr, validation_data = (X_test_arr,Y_test_arr), epochs=35, callbacks=callbacks)"
   ]
  },
  {
   "cell_type": "code",
   "execution_count": null,
   "metadata": {},
   "outputs": [],
   "source": []
  }
 ],
 "metadata": {
  "kernelspec": {
   "display_name": "Python 3",
   "language": "python",
   "name": "python3"
  },
  "language_info": {
   "codemirror_mode": {
    "name": "ipython",
    "version": 3
   },
   "file_extension": ".py",
   "mimetype": "text/x-python",
   "name": "python",
   "nbconvert_exporter": "python",
   "pygments_lexer": "ipython3",
   "version": "3.11.5"
  }
 },
 "nbformat": 4,
 "nbformat_minor": 2
}
